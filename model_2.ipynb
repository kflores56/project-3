{
 "cells": [
  {
   "cell_type": "code",
   "execution_count": 1,
   "metadata": {},
   "outputs": [
    {
     "name": "stdout",
     "output_type": "stream",
     "text": [
      "Requirement already up-to-date: sklearn in c:\\users\\geral\\anaconda3\\envs\\advpython\\lib\\site-packages (0.0)\n",
      "Requirement already satisfied, skipping upgrade: scikit-learn in c:\\users\\geral\\anaconda3\\envs\\advpython\\lib\\site-packages (from sklearn) (0.23.2)\n",
      "Requirement already satisfied, skipping upgrade: joblib>=0.11 in c:\\users\\geral\\anaconda3\\envs\\advpython\\lib\\site-packages (from scikit-learn->sklearn) (0.17.0)\n",
      "Requirement already satisfied, skipping upgrade: numpy>=1.13.3 in c:\\users\\geral\\anaconda3\\envs\\advpython\\lib\\site-packages (from scikit-learn->sklearn) (1.19.2)\n",
      "Requirement already satisfied, skipping upgrade: scipy>=0.19.1 in c:\\users\\geral\\anaconda3\\envs\\advpython\\lib\\site-packages (from scikit-learn->sklearn) (1.5.2)\n",
      "Requirement already satisfied, skipping upgrade: threadpoolctl>=2.0.0 in c:\\users\\geral\\anaconda3\\envs\\advpython\\lib\\site-packages (from scikit-learn->sklearn) (2.1.0)\n"
     ]
    }
   ],
   "source": [
    "# Update sklearn to prevent version mismatches\n",
    "!pip install sklearn --upgrade"
   ]
  },
  {
   "cell_type": "code",
   "execution_count": 2,
   "metadata": {},
   "outputs": [
    {
     "name": "stdout",
     "output_type": "stream",
     "text": [
      "Requirement already satisfied: joblib in c:\\users\\geral\\anaconda3\\envs\\advpython\\lib\\site-packages (0.17.0)\n"
     ]
    }
   ],
   "source": [
    "# install joblib. This will be used to save your model. \n",
    "# Restart your kernel after installing \n",
    "!pip install joblib"
   ]
  },
  {
   "cell_type": "code",
   "execution_count": 3,
   "metadata": {},
   "outputs": [],
   "source": [
    " %matplotlib inline\n",
    "import matplotlib.pyplot as plt\n",
    "import numpy as np\n",
    "import pandas as pd"
   ]
  },
  {
   "cell_type": "markdown",
   "metadata": {},
   "source": [
    "# Read the CSV and Perform Basic Data Cleaning"
   ]
  },
  {
   "cell_type": "code",
   "execution_count": 4,
   "metadata": {},
   "outputs": [
    {
     "data": {
      "text/html": [
       "<div>\n",
       "<style scoped>\n",
       "    .dataframe tbody tr th:only-of-type {\n",
       "        vertical-align: middle;\n",
       "    }\n",
       "\n",
       "    .dataframe tbody tr th {\n",
       "        vertical-align: top;\n",
       "    }\n",
       "\n",
       "    .dataframe thead th {\n",
       "        text-align: right;\n",
       "    }\n",
       "</style>\n",
       "<table border=\"1\" class=\"dataframe\">\n",
       "  <thead>\n",
       "    <tr style=\"text-align: right;\">\n",
       "      <th></th>\n",
       "      <th>zpid</th>\n",
       "      <th>city</th>\n",
       "      <th>streetAddress</th>\n",
       "      <th>zipcode</th>\n",
       "      <th>description</th>\n",
       "      <th>latitude</th>\n",
       "      <th>longitude</th>\n",
       "      <th>garageSpaces</th>\n",
       "      <th>hasAssociation</th>\n",
       "      <th>hasCooling</th>\n",
       "      <th>...</th>\n",
       "      <th>latest_salemonth</th>\n",
       "      <th>latest_saleyear</th>\n",
       "      <th>lotSizeSqFt</th>\n",
       "      <th>livingAreaSqFt</th>\n",
       "      <th>avgSchoolDistance</th>\n",
       "      <th>avgSchoolRating</th>\n",
       "      <th>numOfBathrooms</th>\n",
       "      <th>numOfBedrooms</th>\n",
       "      <th>numOfStories</th>\n",
       "      <th>homeImage</th>\n",
       "    </tr>\n",
       "  </thead>\n",
       "  <tbody>\n",
       "    <tr>\n",
       "      <th>0</th>\n",
       "      <td>111373431</td>\n",
       "      <td>pflugerville</td>\n",
       "      <td>14424 Lake Victor Dr</td>\n",
       "      <td>78660</td>\n",
       "      <td>14424 Lake Victor Dr, Pflugerville, TX 78660 i...</td>\n",
       "      <td>30.430632</td>\n",
       "      <td>-97.663078</td>\n",
       "      <td>2</td>\n",
       "      <td>True</td>\n",
       "      <td>True</td>\n",
       "      <td>...</td>\n",
       "      <td>9</td>\n",
       "      <td>2019</td>\n",
       "      <td>6011.0</td>\n",
       "      <td>2601</td>\n",
       "      <td>1.266667</td>\n",
       "      <td>2.666667</td>\n",
       "      <td>3.0</td>\n",
       "      <td>4</td>\n",
       "      <td>2</td>\n",
       "      <td>111373431_ffce26843283d3365c11d81b8e6bdc6f-p_f...</td>\n",
       "    </tr>\n",
       "    <tr>\n",
       "      <th>1</th>\n",
       "      <td>120900430</td>\n",
       "      <td>pflugerville</td>\n",
       "      <td>1104 Strickling Dr</td>\n",
       "      <td>78660</td>\n",
       "      <td>Absolutely GORGEOUS 4 Bedroom home with 2 full...</td>\n",
       "      <td>30.432672</td>\n",
       "      <td>-97.661697</td>\n",
       "      <td>2</td>\n",
       "      <td>True</td>\n",
       "      <td>True</td>\n",
       "      <td>...</td>\n",
       "      <td>10</td>\n",
       "      <td>2020</td>\n",
       "      <td>6185.0</td>\n",
       "      <td>1768</td>\n",
       "      <td>1.400000</td>\n",
       "      <td>2.666667</td>\n",
       "      <td>2.0</td>\n",
       "      <td>4</td>\n",
       "      <td>1</td>\n",
       "      <td>120900430_8255c127be8dcf0a1a18b7563d987088-p_f...</td>\n",
       "    </tr>\n",
       "    <tr>\n",
       "      <th>2</th>\n",
       "      <td>2084491383</td>\n",
       "      <td>pflugerville</td>\n",
       "      <td>1408 Fort Dessau Rd</td>\n",
       "      <td>78660</td>\n",
       "      <td>Under construction - estimated completion in A...</td>\n",
       "      <td>30.409748</td>\n",
       "      <td>-97.639771</td>\n",
       "      <td>0</td>\n",
       "      <td>True</td>\n",
       "      <td>True</td>\n",
       "      <td>...</td>\n",
       "      <td>7</td>\n",
       "      <td>2019</td>\n",
       "      <td>7840.0</td>\n",
       "      <td>1478</td>\n",
       "      <td>1.200000</td>\n",
       "      <td>3.000000</td>\n",
       "      <td>2.0</td>\n",
       "      <td>3</td>\n",
       "      <td>1</td>\n",
       "      <td>2084491383_a2ad649e1a7a098111dcea084a11c855-p_...</td>\n",
       "    </tr>\n",
       "    <tr>\n",
       "      <th>3</th>\n",
       "      <td>120901374</td>\n",
       "      <td>pflugerville</td>\n",
       "      <td>1025 Strickling Dr</td>\n",
       "      <td>78660</td>\n",
       "      <td>Absolutely darling one story home in charming ...</td>\n",
       "      <td>30.432112</td>\n",
       "      <td>-97.661659</td>\n",
       "      <td>2</td>\n",
       "      <td>True</td>\n",
       "      <td>True</td>\n",
       "      <td>...</td>\n",
       "      <td>8</td>\n",
       "      <td>2018</td>\n",
       "      <td>6098.0</td>\n",
       "      <td>1678</td>\n",
       "      <td>1.400000</td>\n",
       "      <td>2.666667</td>\n",
       "      <td>2.0</td>\n",
       "      <td>3</td>\n",
       "      <td>1</td>\n",
       "      <td>120901374_b469367a619da85b1f5ceb69b675d88e-p_f...</td>\n",
       "    </tr>\n",
       "    <tr>\n",
       "      <th>4</th>\n",
       "      <td>60134862</td>\n",
       "      <td>pflugerville</td>\n",
       "      <td>15005 Donna Jane Loop</td>\n",
       "      <td>78660</td>\n",
       "      <td>Brimming with appeal &amp; warm livability! Sleek ...</td>\n",
       "      <td>30.437368</td>\n",
       "      <td>-97.656860</td>\n",
       "      <td>0</td>\n",
       "      <td>True</td>\n",
       "      <td>True</td>\n",
       "      <td>...</td>\n",
       "      <td>10</td>\n",
       "      <td>2018</td>\n",
       "      <td>6708.0</td>\n",
       "      <td>2132</td>\n",
       "      <td>1.133333</td>\n",
       "      <td>4.000000</td>\n",
       "      <td>3.0</td>\n",
       "      <td>3</td>\n",
       "      <td>2</td>\n",
       "      <td>60134862_b1a48a3df3f111e005bb913873e98ce2-p_f.jpg</td>\n",
       "    </tr>\n",
       "  </tbody>\n",
       "</table>\n",
       "<p>5 rows × 24 columns</p>\n",
       "</div>"
      ],
      "text/plain": [
       "         zpid          city          streetAddress  zipcode  \\\n",
       "0   111373431  pflugerville   14424 Lake Victor Dr    78660   \n",
       "1   120900430  pflugerville     1104 Strickling Dr    78660   \n",
       "2  2084491383  pflugerville    1408 Fort Dessau Rd    78660   \n",
       "3   120901374  pflugerville     1025 Strickling Dr    78660   \n",
       "4    60134862  pflugerville  15005 Donna Jane Loop    78660   \n",
       "\n",
       "                                         description   latitude  longitude  \\\n",
       "0  14424 Lake Victor Dr, Pflugerville, TX 78660 i...  30.430632 -97.663078   \n",
       "1  Absolutely GORGEOUS 4 Bedroom home with 2 full...  30.432672 -97.661697   \n",
       "2  Under construction - estimated completion in A...  30.409748 -97.639771   \n",
       "3  Absolutely darling one story home in charming ...  30.432112 -97.661659   \n",
       "4  Brimming with appeal & warm livability! Sleek ...  30.437368 -97.656860   \n",
       "\n",
       "   garageSpaces  hasAssociation  hasCooling  ...  latest_salemonth  \\\n",
       "0             2            True        True  ...                 9   \n",
       "1             2            True        True  ...                10   \n",
       "2             0            True        True  ...                 7   \n",
       "3             2            True        True  ...                 8   \n",
       "4             0            True        True  ...                10   \n",
       "\n",
       "  latest_saleyear  lotSizeSqFt  livingAreaSqFt  avgSchoolDistance  \\\n",
       "0            2019       6011.0            2601           1.266667   \n",
       "1            2020       6185.0            1768           1.400000   \n",
       "2            2019       7840.0            1478           1.200000   \n",
       "3            2018       6098.0            1678           1.400000   \n",
       "4            2018       6708.0            2132           1.133333   \n",
       "\n",
       "   avgSchoolRating  numOfBathrooms  numOfBedrooms  numOfStories  \\\n",
       "0         2.666667             3.0              4             2   \n",
       "1         2.666667             2.0              4             1   \n",
       "2         3.000000             2.0              3             1   \n",
       "3         2.666667             2.0              3             1   \n",
       "4         4.000000             3.0              3             2   \n",
       "\n",
       "                                           homeImage  \n",
       "0  111373431_ffce26843283d3365c11d81b8e6bdc6f-p_f...  \n",
       "1  120900430_8255c127be8dcf0a1a18b7563d987088-p_f...  \n",
       "2  2084491383_a2ad649e1a7a098111dcea084a11c855-p_...  \n",
       "3  120901374_b469367a619da85b1f5ceb69b675d88e-p_f...  \n",
       "4  60134862_b1a48a3df3f111e005bb913873e98ce2-p_f.jpg  \n",
       "\n",
       "[5 rows x 24 columns]"
      ]
     },
     "execution_count": 4,
     "metadata": {},
     "output_type": "execute_result"
    }
   ],
   "source": [
    "df = pd.read_csv(\"austinHousingData.csv\")\n",
    "# Drop the null columns where all values are null\n",
    "df = df.dropna(axis='columns', how='all')\n",
    "# Drop the null rows\n",
    "df = df.dropna()\n",
    "df.head()"
   ]
  },
  {
   "cell_type": "markdown",
   "metadata": {},
   "source": [
    "# Select your features (columns)"
   ]
  },
  {
   "cell_type": "code",
   "execution_count": 5,
   "metadata": {},
   "outputs": [
    {
     "name": "stdout",
     "output_type": "stream",
     "text": [
      "<class 'pandas.core.frame.DataFrame'>\n",
      "Int64Index: 15171 entries, 0 to 15170\n",
      "Data columns (total 24 columns):\n",
      " #   Column             Non-Null Count  Dtype  \n",
      "---  ------             --------------  -----  \n",
      " 0   zpid               15171 non-null  int64  \n",
      " 1   city               15171 non-null  object \n",
      " 2   streetAddress      15171 non-null  object \n",
      " 3   zipcode            15171 non-null  int64  \n",
      " 4   description        15171 non-null  object \n",
      " 5   latitude           15171 non-null  float64\n",
      " 6   longitude          15171 non-null  float64\n",
      " 7   garageSpaces       15171 non-null  int64  \n",
      " 8   hasAssociation     15171 non-null  bool   \n",
      " 9   hasCooling         15171 non-null  bool   \n",
      " 10  hasView            15171 non-null  bool   \n",
      " 11  homeType           15171 non-null  object \n",
      " 12  yearBuilt          15171 non-null  int64  \n",
      " 13  latestPrice        15171 non-null  int64  \n",
      " 14  latest_salemonth   15171 non-null  int64  \n",
      " 15  latest_saleyear    15171 non-null  int64  \n",
      " 16  lotSizeSqFt        15171 non-null  float64\n",
      " 17  livingAreaSqFt     15171 non-null  int64  \n",
      " 18  avgSchoolDistance  15171 non-null  float64\n",
      " 19  avgSchoolRating    15171 non-null  float64\n",
      " 20  numOfBathrooms     15171 non-null  float64\n",
      " 21  numOfBedrooms      15171 non-null  int64  \n",
      " 22  numOfStories       15171 non-null  int64  \n",
      " 23  homeImage          15171 non-null  object \n",
      "dtypes: bool(3), float64(6), int64(10), object(5)\n",
      "memory usage: 2.6+ MB\n"
     ]
    }
   ],
   "source": [
    "df.info()"
   ]
  },
  {
   "cell_type": "code",
   "execution_count": 6,
   "metadata": {},
   "outputs": [
    {
     "data": {
      "text/html": [
       "<div>\n",
       "<style scoped>\n",
       "    .dataframe tbody tr th:only-of-type {\n",
       "        vertical-align: middle;\n",
       "    }\n",
       "\n",
       "    .dataframe tbody tr th {\n",
       "        vertical-align: top;\n",
       "    }\n",
       "\n",
       "    .dataframe thead th {\n",
       "        text-align: right;\n",
       "    }\n",
       "</style>\n",
       "<table border=\"1\" class=\"dataframe\">\n",
       "  <thead>\n",
       "    <tr style=\"text-align: right;\">\n",
       "      <th></th>\n",
       "      <th>latest_saleyear</th>\n",
       "      <th>yearBuilt</th>\n",
       "      <th>garageSpaces</th>\n",
       "      <th>lotSizeSqFt</th>\n",
       "      <th>livingAreaSqFt</th>\n",
       "      <th>numOfBathrooms</th>\n",
       "      <th>numOfBedrooms</th>\n",
       "      <th>numOfStories</th>\n",
       "      <th>avgSchoolRating</th>\n",
       "      <th>avgSchoolDistance</th>\n",
       "      <th>latestPrice</th>\n",
       "      <th>latest_salemonth</th>\n",
       "    </tr>\n",
       "  </thead>\n",
       "  <tbody>\n",
       "    <tr>\n",
       "      <th>0</th>\n",
       "      <td>2019</td>\n",
       "      <td>2012</td>\n",
       "      <td>2</td>\n",
       "      <td>6011.0</td>\n",
       "      <td>2601</td>\n",
       "      <td>3.0</td>\n",
       "      <td>4</td>\n",
       "      <td>2</td>\n",
       "      <td>2.666667</td>\n",
       "      <td>1.266667</td>\n",
       "      <td>305000</td>\n",
       "      <td>9</td>\n",
       "    </tr>\n",
       "    <tr>\n",
       "      <th>1</th>\n",
       "      <td>2020</td>\n",
       "      <td>2013</td>\n",
       "      <td>2</td>\n",
       "      <td>6185.0</td>\n",
       "      <td>1768</td>\n",
       "      <td>2.0</td>\n",
       "      <td>4</td>\n",
       "      <td>1</td>\n",
       "      <td>2.666667</td>\n",
       "      <td>1.400000</td>\n",
       "      <td>295000</td>\n",
       "      <td>10</td>\n",
       "    </tr>\n",
       "    <tr>\n",
       "      <th>2</th>\n",
       "      <td>2019</td>\n",
       "      <td>2018</td>\n",
       "      <td>0</td>\n",
       "      <td>7840.0</td>\n",
       "      <td>1478</td>\n",
       "      <td>2.0</td>\n",
       "      <td>3</td>\n",
       "      <td>1</td>\n",
       "      <td>3.000000</td>\n",
       "      <td>1.200000</td>\n",
       "      <td>256125</td>\n",
       "      <td>7</td>\n",
       "    </tr>\n",
       "    <tr>\n",
       "      <th>3</th>\n",
       "      <td>2018</td>\n",
       "      <td>2013</td>\n",
       "      <td>2</td>\n",
       "      <td>6098.0</td>\n",
       "      <td>1678</td>\n",
       "      <td>2.0</td>\n",
       "      <td>3</td>\n",
       "      <td>1</td>\n",
       "      <td>2.666667</td>\n",
       "      <td>1.400000</td>\n",
       "      <td>240000</td>\n",
       "      <td>8</td>\n",
       "    </tr>\n",
       "    <tr>\n",
       "      <th>4</th>\n",
       "      <td>2018</td>\n",
       "      <td>2002</td>\n",
       "      <td>0</td>\n",
       "      <td>6708.0</td>\n",
       "      <td>2132</td>\n",
       "      <td>3.0</td>\n",
       "      <td>3</td>\n",
       "      <td>2</td>\n",
       "      <td>4.000000</td>\n",
       "      <td>1.133333</td>\n",
       "      <td>239900</td>\n",
       "      <td>10</td>\n",
       "    </tr>\n",
       "  </tbody>\n",
       "</table>\n",
       "</div>"
      ],
      "text/plain": [
       "   latest_saleyear  yearBuilt  garageSpaces  lotSizeSqFt  livingAreaSqFt  \\\n",
       "0             2019       2012             2       6011.0            2601   \n",
       "1             2020       2013             2       6185.0            1768   \n",
       "2             2019       2018             0       7840.0            1478   \n",
       "3             2018       2013             2       6098.0            1678   \n",
       "4             2018       2002             0       6708.0            2132   \n",
       "\n",
       "   numOfBathrooms  numOfBedrooms  numOfStories  avgSchoolRating  \\\n",
       "0             3.0              4             2         2.666667   \n",
       "1             2.0              4             1         2.666667   \n",
       "2             2.0              3             1         3.000000   \n",
       "3             2.0              3             1         2.666667   \n",
       "4             3.0              3             2         4.000000   \n",
       "\n",
       "   avgSchoolDistance  latestPrice  latest_salemonth  \n",
       "0           1.266667       305000                 9  \n",
       "1           1.400000       295000                10  \n",
       "2           1.200000       256125                 7  \n",
       "3           1.400000       240000                 8  \n",
       "4           1.133333       239900                10  "
      ]
     },
     "execution_count": 6,
     "metadata": {},
     "output_type": "execute_result"
    }
   ],
   "source": [
    "# Set features. This will also be used as your x values.\n",
    "selected_features = df[['latest_saleyear','yearBuilt','garageSpaces', 'lotSizeSqFt',\n",
    "                        'livingAreaSqFt', 'numOfBathrooms', 'numOfBedrooms', 'numOfStories',\n",
    "                        'avgSchoolRating','avgSchoolDistance', 'latestPrice', 'latest_salemonth']]\n",
    "\n",
    "selected_features.head()"
   ]
  },
  {
   "cell_type": "code",
   "execution_count": 15,
   "metadata": {},
   "outputs": [
    {
     "data": {
      "text/html": [
       "<div>\n",
       "<style scoped>\n",
       "    .dataframe tbody tr th:only-of-type {\n",
       "        vertical-align: middle;\n",
       "    }\n",
       "\n",
       "    .dataframe tbody tr th {\n",
       "        vertical-align: top;\n",
       "    }\n",
       "\n",
       "    .dataframe thead th {\n",
       "        text-align: right;\n",
       "    }\n",
       "</style>\n",
       "<table border=\"1\" class=\"dataframe\">\n",
       "  <thead>\n",
       "    <tr style=\"text-align: right;\">\n",
       "      <th></th>\n",
       "      <th>latestPrice</th>\n",
       "      <th>numOfBathrooms</th>\n",
       "      <th>livingAreaSqFt</th>\n",
       "    </tr>\n",
       "  </thead>\n",
       "  <tbody>\n",
       "    <tr>\n",
       "      <th>0</th>\n",
       "      <td>305000</td>\n",
       "      <td>3.0</td>\n",
       "      <td>2601</td>\n",
       "    </tr>\n",
       "    <tr>\n",
       "      <th>1</th>\n",
       "      <td>295000</td>\n",
       "      <td>2.0</td>\n",
       "      <td>1768</td>\n",
       "    </tr>\n",
       "    <tr>\n",
       "      <th>2</th>\n",
       "      <td>256125</td>\n",
       "      <td>2.0</td>\n",
       "      <td>1478</td>\n",
       "    </tr>\n",
       "    <tr>\n",
       "      <th>3</th>\n",
       "      <td>240000</td>\n",
       "      <td>2.0</td>\n",
       "      <td>1678</td>\n",
       "    </tr>\n",
       "    <tr>\n",
       "      <th>4</th>\n",
       "      <td>239900</td>\n",
       "      <td>3.0</td>\n",
       "      <td>2132</td>\n",
       "    </tr>\n",
       "  </tbody>\n",
       "</table>\n",
       "</div>"
      ],
      "text/plain": [
       "   latestPrice  numOfBathrooms  livingAreaSqFt\n",
       "0       305000             3.0            2601\n",
       "1       295000             2.0            1768\n",
       "2       256125             2.0            1478\n",
       "3       240000             2.0            1678\n",
       "4       239900             3.0            2132"
      ]
     },
     "execution_count": 15,
     "metadata": {},
     "output_type": "execute_result"
    }
   ],
   "source": [
    "selected_features2 = df[['latestPrice', 'numOfBathrooms', 'livingAreaSqFt']]\n",
    "\n",
    "selected_features2.head()"
   ]
  },
  {
   "cell_type": "code",
   "execution_count": 16,
   "metadata": {},
   "outputs": [
    {
     "name": "stdout",
     "output_type": "stream",
     "text": [
      "(15171, 3) (15171, 1)\n"
     ]
    }
   ],
   "source": [
    "# train, test, split\n",
    "X = selected_features2\n",
    "y = df['latestPrice'].values.reshape(-1, 1)\n",
    "print(X.shape, y.shape)"
   ]
  },
  {
   "cell_type": "code",
   "execution_count": 17,
   "metadata": {},
   "outputs": [],
   "source": [
    "# split the data to train and test values\n",
    "\n",
    "from sklearn.model_selection import train_test_split\n",
    "\n",
    "X_train, X_test, y_train, y_test = train_test_split(X, y, random_state=42)"
   ]
  },
  {
   "cell_type": "code",
   "execution_count": 18,
   "metadata": {},
   "outputs": [
    {
     "data": {
      "text/html": [
       "<div>\n",
       "<style scoped>\n",
       "    .dataframe tbody tr th:only-of-type {\n",
       "        vertical-align: middle;\n",
       "    }\n",
       "\n",
       "    .dataframe tbody tr th {\n",
       "        vertical-align: top;\n",
       "    }\n",
       "\n",
       "    .dataframe thead th {\n",
       "        text-align: right;\n",
       "    }\n",
       "</style>\n",
       "<table border=\"1\" class=\"dataframe\">\n",
       "  <thead>\n",
       "    <tr style=\"text-align: right;\">\n",
       "      <th></th>\n",
       "      <th>latestPrice</th>\n",
       "      <th>numOfBathrooms</th>\n",
       "      <th>livingAreaSqFt</th>\n",
       "    </tr>\n",
       "  </thead>\n",
       "  <tbody>\n",
       "    <tr>\n",
       "      <th>1145</th>\n",
       "      <td>142136</td>\n",
       "      <td>2.0</td>\n",
       "      <td>1650</td>\n",
       "    </tr>\n",
       "    <tr>\n",
       "      <th>8937</th>\n",
       "      <td>285000</td>\n",
       "      <td>2.0</td>\n",
       "      <td>1115</td>\n",
       "    </tr>\n",
       "    <tr>\n",
       "      <th>14600</th>\n",
       "      <td>615000</td>\n",
       "      <td>2.0</td>\n",
       "      <td>1361</td>\n",
       "    </tr>\n",
       "    <tr>\n",
       "      <th>13509</th>\n",
       "      <td>486000</td>\n",
       "      <td>2.5</td>\n",
       "      <td>2627</td>\n",
       "    </tr>\n",
       "    <tr>\n",
       "      <th>733</th>\n",
       "      <td>775000</td>\n",
       "      <td>3.0</td>\n",
       "      <td>3114</td>\n",
       "    </tr>\n",
       "  </tbody>\n",
       "</table>\n",
       "</div>"
      ],
      "text/plain": [
       "       latestPrice  numOfBathrooms  livingAreaSqFt\n",
       "1145        142136             2.0            1650\n",
       "8937        285000             2.0            1115\n",
       "14600       615000             2.0            1361\n",
       "13509       486000             2.5            2627\n",
       "733         775000             3.0            3114"
      ]
     },
     "execution_count": 18,
     "metadata": {},
     "output_type": "execute_result"
    }
   ],
   "source": [
    "X_train.head()"
   ]
  },
  {
   "cell_type": "markdown",
   "metadata": {},
   "source": [
    "# Data Preprocessing"
   ]
  },
  {
   "cell_type": "code",
   "execution_count": 11,
   "metadata": {},
   "outputs": [],
   "source": [
    "# df['homeType'] = df['homeType'].str.replace(',', '')\n",
    "# df['homeType'] = df['homeType'].convert_objects(convert_numeric=True)\n",
    "# from sklearn.preprocessing import StandardScaler\n",
    "# X_scaler = StandardScaler().fit(X_train)\n",
    "# y_scaler = StandardScaler().fit(y_train)"
   ]
  },
  {
   "cell_type": "code",
   "execution_count": 12,
   "metadata": {},
   "outputs": [],
   "source": [
    "# X_train_scaled = X_scaler.transform(X_train)\n",
    "# X_test_scaled = X_scaler.transform(X_test)\n",
    "# y_train_scaled = y_scaler.transform(y_train)\n",
    "# y_test_scaled = y_scaler.transform(y_test)"
   ]
  },
  {
   "cell_type": "code",
   "execution_count": 13,
   "metadata": {},
   "outputs": [
    {
     "data": {
      "text/plain": [
       "<matplotlib.collections.PathCollection at 0x207de988438>"
      ]
     },
     "execution_count": 13,
     "metadata": {},
     "output_type": "execute_result"
    },
    {
     "data": {
      "image/png": "[encoded data removed]",
      "text/plain": [
       "<Figure size 864x432 with 2 Axes>"
      ]
     },
     "metadata": {
      "needs_background": "light"
     },
     "output_type": "display_data"
    }
   ],
   "source": [
    "# fig1 = plt.figure(figsize=(12, 6))\n",
    "# axes1 = fig1.add_subplot(1, 2, 1)\n",
    "# axes2 = fig1.add_subplot(1, 2, 2)\n",
    "\n",
    "# axes1.set_title(\"Original Data\")\n",
    "# axes2.set_title(\"Scaled Data\")\n",
    "\n",
    "# maxx = X_train[\"livingAreaSqFt\"].max()\n",
    "# maxy = y_train.max()\n",
    "# axes1.set_xlim(-maxx + 100, maxx + 100)\n",
    "# axes1.set_ylim(-maxy + 100, maxy + 100)\n",
    "\n",
    "# axes2.set_xlim(-2, 2)\n",
    "# axes2.set_ylim(-2, 2)\n",
    "\n",
    "# def set_axes(ax):\n",
    "#     ax.spines['left'].set_position('center')\n",
    "#     ax.spines['right'].set_color('none')\n",
    "#     ax.spines['bottom'].set_position('center')\n",
    "#     ax.spines['top'].set_color('none')\n",
    "#     ax.xaxis.set_ticks_position('bottom')\n",
    "#     ax.yaxis.set_ticks_position('left')\n",
    "    \n",
    "# set_axes(axes1)\n",
    "# set_axes(axes2)\n",
    "\n",
    "# axes1.scatter(X_train[\"livingAreaSqFt\"], y_train)\n",
    "# axes2.scatter(X_train_scaled[:,0], y_train_scaled[:])"
   ]
  },
  {
   "cell_type": "code",
   "execution_count": 14,
   "metadata": {},
   "outputs": [
    {
     "name": "stderr",
     "output_type": "stream",
     "text": [
      "C:\\Users\\geral\\anaconda3\\envs\\advPython\\lib\\site-packages\\sklearn\\utils\\validation.py:72: DataConversionWarning: A column-vector y was passed when a 1d array was expected. Please change the shape of y to (n_samples, ), for example using ravel().\n",
      "  return f(**kwargs)\n"
     ]
    },
    {
     "ename": "ValueError",
     "evalue": "y contains previously unseen labels: [6800, 7500, 7900, 52500, 66900, 72900, 74000, 77500, 85000, 97650, 102000, 102500, 112000, 114900, 115100, 118499, 118750, 119889, 120600, 122000, 125595, 126900, 131400, 131679, 132500, 134850, 136000, 139777, 139950, 142500, 145800, 151500, 153800, 153900, 156485, 156500, 159950, 164500, 167500, 171900, 172500, 174500, 174990, 176000, 176258, 178950, 181500, 183500, 185295, 185900, 186500, 188673, 188800, 189123, 191000, 194990, 196640, 198700, 199888, 201000, 202000, 204400, 208000, 208500, 210500, 214990, 218800, 219965, 220813, 224850, 224995, 226900, 229272, 229500, 233300, 234999, 236500, 239979, 245270, 245500, 246500, 254500, 258900, 259400, 259995, 259997, 263484, 264788, 264935, 268729, 269950, 273700, 273900, 274990, 276500, 277444, 277500, 277900, 279945, 279998, 281899, 282490, 284995, 285990, 286800, 286900, 286990, 287800, 289700, 289975, 289997, 290900, 292076, 294990, 295400, 296000, 296640, 297700, 297778, 303000, 306000, 307990, 308036, 308500, 309899, 309989, 309998, 311995, 312400, 313990, 314289, 314888, 315400, 323900, 324995, 326990, 328200, 328900, 329888, 329890, 329950, 334400, 335240, 339150, 341494, 345990, 347300, 347777, 355500, 356900, 357535, 359400, 361888, 366900, 369820, 372505, 374257, 375525, 375999, 377000, 379650, 379990, 382200, 383990, 387900, 388990, 390500, 390900, 392735, 395500, 395625, 398500, 398990, 399777, 399993, 409999, 415095, 417900, 419550, 419650, 427990, 429899, 430650, 433000, 439850, 444297, 444990, 446760, 447900, 448843, 454000, 456900, 459888, 459950, 462500, 464800, 467900, 468900, 468956, 469700, 469990, 469995, 469997, 470900, 477555, 482250, 484999, 489009, 494950, 498850, 499899, 499995, 504000, 508000, 510900, 514999, 515900, 519999, 524444, 526990, 532665, 532900, 533000, 534435, 536000, 536800, 537000, 537500, 538000, 539997, 544500, 545400, 549700, 559500, 559997, 559999, 569700, 574887, 574999, 575701, 583990, 587900, 594000, 596000, 597000, 598400, 606000, 613300, 614500, 624990, 627000, 630090, 631000, 638500, 639490, 644580, 648500, 648900, 659800, 663000, 669990, 669997, 672500, 673000, 674988, 674990, 684000, 687500, 699850, 707000, 709999, 722000, 728950, 732000, 749999, 758822, 767500, 773850, 774990, 775900, 779997, 787000, 794995, 795775, 799888, 805000, 814500, 824500, 834900, 838500, 874500, 884000, 890728, 930000, 949950, 969444, 995900, 998000, 999444, 999857, 1002000, 1029000, 1070000, 1080000, 1084000, 1089999, 1098500, 1140000, 1229000, 1235000, 1249990, 1249999, 1259000, 1285000, 1299990, 1313700, 1319000, 1380000, 1460000, 1488000, 1499987, 1699900, 1829000, 1899900, 1940000, 2099900, 2199000, 2299000, 2397000, 2450000, 2489000, 2749000, 2790000, 2850000, 2900000, 2999000, 3100000, 3349000, 3450000, 3499000, 3750000, 4100000, 4995000, 5495000, 8999000, 12720000, 13000000, 13500000]",
     "output_type": "error",
     "traceback": [
      "\u001b[1;31m---------------------------------------------------------------------------\u001b[0m",
      "\u001b[1;31mValueError\u001b[0m                                Traceback (most recent call last)",
      "\u001b[1;32m<ipython-input-14-1206c2fb9125>\u001b[0m in \u001b[0;36m<module>\u001b[1;34m\u001b[0m\n\u001b[0;32m     12\u001b[0m \u001b[0mlabel_encoder\u001b[0m\u001b[1;33m.\u001b[0m\u001b[0mfit\u001b[0m\u001b[1;33m(\u001b[0m\u001b[0my_train\u001b[0m\u001b[1;33m)\u001b[0m\u001b[1;33m\u001b[0m\u001b[1;33m\u001b[0m\u001b[0m\n\u001b[0;32m     13\u001b[0m \u001b[0mencoded_y_train\u001b[0m \u001b[1;33m=\u001b[0m \u001b[0mlabel_encoder\u001b[0m\u001b[1;33m.\u001b[0m\u001b[0mtransform\u001b[0m\u001b[1;33m(\u001b[0m\u001b[0my_train\u001b[0m\u001b[1;33m)\u001b[0m\u001b[1;33m\u001b[0m\u001b[1;33m\u001b[0m\u001b[0m\n\u001b[1;32m---> 14\u001b[1;33m \u001b[0mencoded_y_test\u001b[0m \u001b[1;33m=\u001b[0m \u001b[0mlabel_encoder\u001b[0m\u001b[1;33m.\u001b[0m\u001b[0mtransform\u001b[0m\u001b[1;33m(\u001b[0m\u001b[0my_test\u001b[0m\u001b[1;33m)\u001b[0m\u001b[1;33m\u001b[0m\u001b[1;33m\u001b[0m\u001b[0m\n\u001b[0m\u001b[0;32m     15\u001b[0m \u001b[1;33m\u001b[0m\u001b[0m\n\u001b[0;32m     16\u001b[0m \u001b[1;33m\u001b[0m\u001b[0m\n",
      "\u001b[1;32m~\\anaconda3\\envs\\advPython\\lib\\site-packages\\sklearn\\preprocessing\\_label.py\u001b[0m in \u001b[0;36mtransform\u001b[1;34m(self, y)\u001b[0m\n\u001b[0;32m    275\u001b[0m             \u001b[1;32mreturn\u001b[0m \u001b[0mnp\u001b[0m\u001b[1;33m.\u001b[0m\u001b[0marray\u001b[0m\u001b[1;33m(\u001b[0m\u001b[1;33m[\u001b[0m\u001b[1;33m]\u001b[0m\u001b[1;33m)\u001b[0m\u001b[1;33m\u001b[0m\u001b[1;33m\u001b[0m\u001b[0m\n\u001b[0;32m    276\u001b[0m \u001b[1;33m\u001b[0m\u001b[0m\n\u001b[1;32m--> 277\u001b[1;33m         \u001b[0m_\u001b[0m\u001b[1;33m,\u001b[0m \u001b[0my\u001b[0m \u001b[1;33m=\u001b[0m \u001b[0m_encode\u001b[0m\u001b[1;33m(\u001b[0m\u001b[0my\u001b[0m\u001b[1;33m,\u001b[0m \u001b[0muniques\u001b[0m\u001b[1;33m=\u001b[0m\u001b[0mself\u001b[0m\u001b[1;33m.\u001b[0m\u001b[0mclasses_\u001b[0m\u001b[1;33m,\u001b[0m \u001b[0mencode\u001b[0m\u001b[1;33m=\u001b[0m\u001b[1;32mTrue\u001b[0m\u001b[1;33m)\u001b[0m\u001b[1;33m\u001b[0m\u001b[1;33m\u001b[0m\u001b[0m\n\u001b[0m\u001b[0;32m    278\u001b[0m         \u001b[1;32mreturn\u001b[0m \u001b[0my\u001b[0m\u001b[1;33m\u001b[0m\u001b[1;33m\u001b[0m\u001b[0m\n\u001b[0;32m    279\u001b[0m \u001b[1;33m\u001b[0m\u001b[0m\n",
      "\u001b[1;32m~\\anaconda3\\envs\\advPython\\lib\\site-packages\\sklearn\\preprocessing\\_label.py\u001b[0m in \u001b[0;36m_encode\u001b[1;34m(values, uniques, encode, check_unknown)\u001b[0m\n\u001b[0;32m    120\u001b[0m     \u001b[1;32melse\u001b[0m\u001b[1;33m:\u001b[0m\u001b[1;33m\u001b[0m\u001b[1;33m\u001b[0m\u001b[0m\n\u001b[0;32m    121\u001b[0m         return _encode_numpy(values, uniques, encode,\n\u001b[1;32m--> 122\u001b[1;33m                              check_unknown=check_unknown)\n\u001b[0m\u001b[0;32m    123\u001b[0m \u001b[1;33m\u001b[0m\u001b[0m\n\u001b[0;32m    124\u001b[0m \u001b[1;33m\u001b[0m\u001b[0m\n",
      "\u001b[1;32m~\\anaconda3\\envs\\advPython\\lib\\site-packages\\sklearn\\preprocessing\\_label.py\u001b[0m in \u001b[0;36m_encode_numpy\u001b[1;34m(values, uniques, encode, check_unknown)\u001b[0m\n\u001b[0;32m     49\u001b[0m             \u001b[1;32mif\u001b[0m \u001b[0mdiff\u001b[0m\u001b[1;33m:\u001b[0m\u001b[1;33m\u001b[0m\u001b[1;33m\u001b[0m\u001b[0m\n\u001b[0;32m     50\u001b[0m                 raise ValueError(\"y contains previously unseen labels: %s\"\n\u001b[1;32m---> 51\u001b[1;33m                                  % str(diff))\n\u001b[0m\u001b[0;32m     52\u001b[0m         \u001b[0mencoded\u001b[0m \u001b[1;33m=\u001b[0m \u001b[0mnp\u001b[0m\u001b[1;33m.\u001b[0m\u001b[0msearchsorted\u001b[0m\u001b[1;33m(\u001b[0m\u001b[0muniques\u001b[0m\u001b[1;33m,\u001b[0m \u001b[0mvalues\u001b[0m\u001b[1;33m)\u001b[0m\u001b[1;33m\u001b[0m\u001b[1;33m\u001b[0m\u001b[0m\n\u001b[0;32m     53\u001b[0m         \u001b[1;32mreturn\u001b[0m \u001b[0muniques\u001b[0m\u001b[1;33m,\u001b[0m \u001b[0mencoded\u001b[0m\u001b[1;33m\u001b[0m\u001b[1;33m\u001b[0m\u001b[0m\n",
      "\u001b[1;31mValueError\u001b[0m: y contains previously unseen labels: [6800, 7500, 7900, 52500, 66900, 72900, 74000, 77500, 85000, 97650, 102000, 102500, 112000, 114900, 115100, 118499, 118750, 119889, 120600, 122000, 125595, 126900, 131400, 131679, 132500, 134850, 136000, 139777, 139950, 142500, 145800, 151500, 153800, 153900, 156485, 156500, 159950, 164500, 167500, 171900, 172500, 174500, 174990, 176000, 176258, 178950, 181500, 183500, 185295, 185900, 186500, 188673, 188800, 189123, 191000, 194990, 196640, 198700, 199888, 201000, 202000, 204400, 208000, 208500, 210500, 214990, 218800, 219965, 220813, 224850, 224995, 226900, 229272, 229500, 233300, 234999, 236500, 239979, 245270, 245500, 246500, 254500, 258900, 259400, 259995, 259997, 263484, 264788, 264935, 268729, 269950, 273700, 273900, 274990, 276500, 277444, 277500, 277900, 279945, 279998, 281899, 282490, 284995, 285990, 286800, 286900, 286990, 287800, 289700, 289975, 289997, 290900, 292076, 294990, 295400, 296000, 296640, 297700, 297778, 303000, 306000, 307990, 308036, 308500, 309899, 309989, 309998, 311995, 312400, 313990, 314289, 314888, 315400, 323900, 324995, 326990, 328200, 328900, 329888, 329890, 329950, 334400, 335240, 339150, 341494, 345990, 347300, 347777, 355500, 356900, 357535, 359400, 361888, 366900, 369820, 372505, 374257, 375525, 375999, 377000, 379650, 379990, 382200, 383990, 387900, 388990, 390500, 390900, 392735, 395500, 395625, 398500, 398990, 399777, 399993, 409999, 415095, 417900, 419550, 419650, 427990, 429899, 430650, 433000, 439850, 444297, 444990, 446760, 447900, 448843, 454000, 456900, 459888, 459950, 462500, 464800, 467900, 468900, 468956, 469700, 469990, 469995, 469997, 470900, 477555, 482250, 484999, 489009, 494950, 498850, 499899, 499995, 504000, 508000, 510900, 514999, 515900, 519999, 524444, 526990, 532665, 532900, 533000, 534435, 536000, 536800, 537000, 537500, 538000, 539997, 544500, 545400, 549700, 559500, 559997, 559999, 569700, 574887, 574999, 575701, 583990, 587900, 594000, 596000, 597000, 598400, 606000, 613300, 614500, 624990, 627000, 630090, 631000, 638500, 639490, 644580, 648500, 648900, 659800, 663000, 669990, 669997, 672500, 673000, 674988, 674990, 684000, 687500, 699850, 707000, 709999, 722000, 728950, 732000, 749999, 758822, 767500, 773850, 774990, 775900, 779997, 787000, 794995, 795775, 799888, 805000, 814500, 824500, 834900, 838500, 874500, 884000, 890728, 930000, 949950, 969444, 995900, 998000, 999444, 999857, 1002000, 1029000, 1070000, 1080000, 1084000, 1089999, 1098500, 1140000, 1229000, 1235000, 1249990, 1249999, 1259000, 1285000, 1299990, 1313700, 1319000, 1380000, 1460000, 1488000, 1499987, 1699900, 1829000, 1899900, 1940000, 2099900, 2199000, 2299000, 2397000, 2450000, 2489000, 2749000, 2790000, 2850000, 2900000, 2999000, 3100000, 3349000, 3450000, 3499000, 3750000, 4100000, 4995000, 5495000, 8999000, 12720000, 13000000, 13500000]"
     ]
    }
   ],
   "source": [
    "# Scale your data. Import dependencies.\n",
    "from sklearn.preprocessing import LabelEncoder, MinMaxScaler, StandardScaler\n",
    "from tensorflow.keras.utils import to_categorical\n",
    "\n",
    "# Scale the data.\n",
    "X_scaler = StandardScaler().fit(X_train)\n",
    "X_train_scaled = X_scaler.transform(X_train)\n",
    "X_test_scaled = X_scaler.transform(X_test)\n",
    "\n",
    "# Label-encoder dataset.\n",
    "label_encoder = LabelEncoder()\n",
    "label_encoder.fit(y_train)\n",
    "encoded_y_train = label_encoder.transform(y_train)\n",
    "encoded_y_test = label_encoder.transform(y_test)\n",
    "\n",
    "\n",
    "print(encoded_y_test)"
   ]
  },
  {
   "cell_type": "code",
   "execution_count": null,
   "metadata": {},
   "outputs": [],
   "source": []
  },
  {
   "cell_type": "code",
   "execution_count": null,
   "metadata": {},
   "outputs": [],
   "source": []
  },
  {
   "cell_type": "code",
   "execution_count": null,
   "metadata": {},
   "outputs": [],
   "source": [
    "plt.show()"
   ]
  },
  {
   "cell_type": "code",
   "execution_count": null,
   "metadata": {
    "scrolled": true
   },
   "outputs": [],
   "source": [
    "df.describe()"
   ]
  },
  {
   "cell_type": "code",
   "execution_count": null,
   "metadata": {},
   "outputs": [],
   "source": [
    "# Charting\n",
    "selected_features.hist(bins=50, figsize=(20,15))\n",
    "# plt.savefig(\"attribute_histogram_plots\")\n",
    "plt.show()"
   ]
  },
  {
   "cell_type": "code",
   "execution_count": null,
   "metadata": {},
   "outputs": [],
   "source": [
    "df.plot(kind=\"scatter\", x=\"longitude\", y=\"latitude\", alpha=0.2)"
   ]
  },
  {
   "cell_type": "code",
   "execution_count": null,
   "metadata": {},
   "outputs": [],
   "source": [
    "df.plot(kind=\"scatter\", x=\"longitude\", y=\"latitude\", alpha=0.4, figsize=(10,7),\n",
    "    c=\"latestPrice\", cmap=plt.get_cmap(\"jet\"), colorbar=True,\n",
    "    sharex=False)"
   ]
  },
  {
   "cell_type": "code",
   "execution_count": null,
   "metadata": {},
   "outputs": [],
   "source": [
    "#correlation matrix\n",
    "corr_matrix = df.corr()\n",
    "corr_matrix[\"latestPrice\"].sort_values(ascending=False)"
   ]
  },
  {
   "cell_type": "code",
   "execution_count": null,
   "metadata": {},
   "outputs": [],
   "source": [
    "ax1 = df.plot.scatter(x='livingAreaSqFt',y='latestPrice',c='latestPrice', colormap='viridis',figsize=(18,4))\n",
    "ax1.set_xlabel(\"livingAreaSqFt\", fontsize=14)\n",
    "ax1.set_ylabel(\"latestPrice\", fontsize=14)"
   ]
  },
  {
   "cell_type": "code",
   "execution_count": null,
   "metadata": {},
   "outputs": [],
   "source": [
    "\n"
   ]
  },
  {
   "cell_type": "code",
   "execution_count": null,
   "metadata": {},
   "outputs": [],
   "source": [
    "df.plot(kind=\"scatter\", x=\"numOfBathrooms\", y=\"latestPrice\", alpha=0.5)\n",
    "# plt.savefig('scatter.png')\n",
    "\n",
    "df.plot(kind=\"scatter\", x=\"livingAreaSqFt\", y=\"latestPrice\", alpha=0.5)\n",
    "# plt.savefig('scatter.png')"
   ]
  },
  {
   "cell_type": "code",
   "execution_count": null,
   "metadata": {},
   "outputs": [],
   "source": []
  },
  {
   "cell_type": "markdown",
   "metadata": {},
   "source": [
    "# Create a Train Test Split"
   ]
  },
  {
   "cell_type": "code",
   "execution_count": null,
   "metadata": {},
   "outputs": [],
   "source": []
  },
  {
   "cell_type": "code",
   "execution_count": null,
   "metadata": {},
   "outputs": [],
   "source": [
    "# X_train.head()\n",
    "\n",
    "from sklearn.model_selection import train_test_split\n",
    "\n",
    "selected_features_train, selected_features_test, y_train, y_test = train_test_split(selected_features, y, random_state=42)"
   ]
  },
  {
   "cell_type": "markdown",
   "metadata": {},
   "source": [
    "# Create model\n"
   ]
  },
  {
   "cell_type": "code",
   "execution_count": null,
   "metadata": {},
   "outputs": [],
   "source": [
    "from sklearn.linear_model import LinearRegression\n",
    "model = LinearRegression()"
   ]
  },
  {
   "cell_type": "markdown",
   "metadata": {},
   "source": [
    "# Train the Model\n",
    "\n"
   ]
  },
  {
   "cell_type": "code",
   "execution_count": null,
   "metadata": {},
   "outputs": [],
   "source": [
    "model.fit(selected_features_train, y_train)\n",
    "training_score = model.score(selected_features_train, y_train)\n",
    "testing_score = model.score(selected_features_test, y_test)\n",
    "\n",
    "print(f\"Training Score: {training_score}\")\n",
    "print(f\"Testing Score: {testing_score}\")"
   ]
  },
  {
   "cell_type": "markdown",
   "metadata": {},
   "source": [
    "# Plot Residuals"
   ]
  },
  {
   "cell_type": "code",
   "execution_count": null,
   "metadata": {
    "scrolled": false
   },
   "outputs": [],
   "source": [
    "plt.scatter(model.predict(selected_features_train), model.predict(selected_features_train) - y_train, c=\"blue\", label=\"Training Data\")\n",
    "plt.scatter(model.predict(selected_features_test), model.predict(selected_features_test) - y_test, c=\"orange\", label=\"Testing Data\")\n",
    "plt.legend()\n",
    "plt.hlines(y=0, xmin=y.min(), xmax=y.max())\n",
    "plt.title(\"Residual Plot\")"
   ]
  },
  {
   "cell_type": "markdown",
   "metadata": {},
   "source": [
    "# Save the Model"
   ]
  },
  {
   "cell_type": "code",
   "execution_count": null,
   "metadata": {},
   "outputs": [],
   "source": [
    "# save your model by updating \"your_name\" with your name\n",
    "# and \"your_model\" with your model variable\n",
    "# be sure to turn this in to BCS\n",
    "# if joblib fails to import, try running the command to install in terminal/git-bash\n",
    "import joblib\n",
    "filename = 'your_name.sav'\n",
    "joblib.dump(your_model, filename)"
   ]
  }
 ],
 "metadata": {
  "kernel_info": {
   "name": "dev"
  },
  "kernelspec": {
   "display_name": "advPython",
   "language": "python",
   "name": "advpython"
  },
  "language_info": {
   "codemirror_mode": {
    "name": "ipython",
    "version": 3
   },
   "file_extension": ".py",
   "mimetype": "text/x-python",
   "name": "python",
   "nbconvert_exporter": "python",
   "pygments_lexer": "ipython3",
   "version": "3.6.12"
  },
  "nteract": {
   "version": "0.12.3"
  }
 },
 "nbformat": 4,
 "nbformat_minor": 2
}
